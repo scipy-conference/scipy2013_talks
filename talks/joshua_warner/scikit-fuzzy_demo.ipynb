{
 "metadata": {
  "name": "scikit-fuzzy_demo"
 },
 "nbformat": 3,
 "nbformat_minor": 0,
 "worksheets": [
  {
   "cells": [
    {
     "cell_type": "code",
     "collapsed": false,
     "input": "%pylab inline",
     "language": "python",
     "metadata": {},
     "outputs": []
    },
    {
     "cell_type": "heading",
     "level": 1,
     "metadata": {},
     "source": "Scikit-Fuzzy Demo"
    },
    {
     "cell_type": "markdown",
     "metadata": {},
     "source": "##Procedure\nIn this demo we're going to translate a conceptual example, predicting expected customers in an ice cream shop given a particular outside temperature. This example modified from [Fuzzy Logic in Decision Making and Signal Processing](http://enpub.fulton.asu.edu/powerzone/fuzzylogic/chapter%205/frame5.htm) by Pant and Holbert.\n\nRecall fuzzy systems consist of:\n\n* **if** premise (antecedent) **then** conclusion (consequent) "
    },
    {
     "cell_type": "markdown",
     "metadata": {},
     "source": "Consider an ice cream parlor, with a non-computer literate proprietor. He tells you:\n\n* **if** temperature is hot **then** ice cream parlor is crowded.\n* **if** temperature is moderate **then** ice cream parlor is busy.\n* **if** temperature is cool **then** ice cream parlor is quiet.\n\nFor this system we have two universe variables: `temp` and `n_customers`.\n\nNote how pythonic, simple, and intuitive this system is!"
    },
    {
     "cell_type": "code",
     "collapsed": false,
     "input": "# Import NumPy and scikit-fuzzy\nimport numpy as np\nimport skfuzzy as fuzz",
     "language": "python",
     "metadata": {},
     "outputs": []
    },
    {
     "cell_type": "markdown",
     "metadata": {},
     "source": "##Describe Fuzzy System\n\nFirst create fuzzy membership functions which represent *degree of truth* related to a continuous variable variable."
    },
    {
     "cell_type": "code",
     "collapsed": false,
     "input": "# Generate universe functions\ntemp = np.arange(30, 101, 1)\ncustomers = np.arange(0, 36, 1)\n\n# Membership functions for heat\nt_hot = fuzz.trimf(temp, [65, 100, 100])\nt_moderate = fuzz.trimf(temp, [30, 65, 100])\nt_cool = fuzz.trapmf(temp, [20, 20, 30, 65])\n\n# Membership functions for customers\nc_crowded = fuzz.trimf(customers, [24, 35, 35])\nc_busy = fuzz.trimf(customers, [0, 24, 35])\nc_quiet = fuzz.trimf(customers, [0, 0, 24])",
     "language": "python",
     "metadata": {},
     "outputs": []
    },
    {
     "cell_type": "markdown",
     "metadata": {},
     "source": "**Note**: In scikit-fuzzy, all membership functions are raw NumPy arrays. This means in many functions you must manually specify both the universe variable (here `temp`) and the membership function. The universe variable and membership function arrays must have identical `shape`."
    },
    {
     "cell_type": "markdown",
     "metadata": {},
     "source": "##Visualize Fuzzy System"
    },
    {
     "cell_type": "code",
     "collapsed": false,
     "input": "# Visualize membership functions for temperature\nfig, ax = plt.subplots()\n\nax.plot(temp, t_hot, 'r', temp, t_moderate, 'm', temp, t_cool, 'b')\nax.set_ylabel('Fuzzy membership')\nax.set_xlabel('Temp (Farenheit)')\nax.set_ylim(-0.05, 1.05);",
     "language": "python",
     "metadata": {},
     "outputs": []
    },
    {
     "cell_type": "code",
     "collapsed": false,
     "input": "# Visualize membership functions for customers\nfig, ax = plt.subplots()\n\nax.plot(customers, c_quiet, 'c', customers, c_busy, 'm', customers, c_crowded, 'ForestGreen')\nax.set_ylabel('Fuzzy membership')\nax.set_xlabel('Number of Customers')\nax.set_ylim(-0.05, 1.05);",
     "language": "python",
     "metadata": {},
     "outputs": []
    },
    {
     "cell_type": "markdown",
     "metadata": {},
     "source": "Next, we use fuzzy implication via the Product (Larsen) relation, `fuzz.relation_product`. This is done separately for each statement in the fuzzy system, so we'll have 3 separate fuzzy relation matrices.\n\nNote: scikit-fuzzy includes a second fuzzy implication relation, min (Mamdani) relation, as `fuzz.relation_min`"
    },
    {
     "cell_type": "code",
     "collapsed": false,
     "input": "# Fuzzy relation\nR1 = fuzz.relation_product(t_hot, c_crowded)\nR2 = fuzz.relation_product(t_moderate, c_busy)\nR3 = fuzz.relation_product(t_cool, c_quiet)\n\n# Combine fuzzy relations into aggregate relation\nR_combined = np.fmax(R1, np.fmax(R2, R3))\n\n# Visualize \nplt.imshow(R_combined)\ncbar = plt.colorbar()\ncbar.set_label('Fuzzy membership')\nplt.yticks([i * 10 for i in range(8)], [str(i * 10 + 30) for i in range(8)]);\nplt.ylabel('Temp')\nplt.xlabel('Customers');",
     "language": "python",
     "metadata": {},
     "outputs": []
    },
    {
     "cell_type": "markdown",
     "metadata": {},
     "source": "###Defuzzification\n\nThe fuzzy relation matrices show how the system responds for all temperatures and all customers. But we need to make a specific prediction for a specific temperature. We need to return from the fuzzy domain back to crisp logic. **This is known as defuzzification**. \n\nLet's say it is 75 degrees outside (wishing here in Austin, I know). How many customers should the ice cream parlor expect?"
    },
    {
     "cell_type": "code",
     "collapsed": false,
     "input": "# Note R_combined is zero-indexed, but the universe variable temp starts at 30... not zero.\nfuzz.defuzz(customers, R_combined[temp == 75], 'centroid')",
     "language": "python",
     "metadata": {},
     "outputs": []
    },
    {
     "cell_type": "markdown",
     "metadata": {},
     "source": "So about 20 people are predicted. Seem reasonable? Sure, but it doesn't tell us much. Let's get greedy and defuzzify the entire relation, to get a better intuitive sense of what is going on. \n\nThe result of this step is effectively a look-up table, which need only be consulted - not re-calculated! - on future days, unless the model membership functions were adjusted."
    },
    {
     "cell_type": "code",
     "collapsed": false,
     "input": "# Defuzzify to generate crisp solution\npredicted_customers = np.zeros_like(temp)\n\nfor i in range(len(predicted_customers)):\n    predicted_customers[i] = fuzz.defuzz(customers, R_combined[i, :], 'centroid')",
     "language": "python",
     "metadata": {},
     "outputs": []
    },
    {
     "cell_type": "markdown",
     "metadata": {},
     "source": "##Results"
    },
    {
     "cell_type": "markdown",
     "metadata": {},
     "source": "Let's see what the predicted defuzzified relation looks like."
    },
    {
     "cell_type": "code",
     "collapsed": false,
     "input": "# Number of customers on our hypothetical 75 degree day\nplt.plot(temp, predicted_customers, 'k')\nplt.vlines(75, 5, predicted_customers[temp == 75], color='DarkOrange', linestyle='dashed', lw=2)\nplt.hlines(predicted_customers[temp == 75], 30, 75, color='DarkOrange', linestyle='dashed', lw=2)\nplt.xlabel('Temperature')\nplt.ylabel('Customers');",
     "language": "python",
     "metadata": {},
     "outputs": []
    },
    {
     "cell_type": "markdown",
     "metadata": {},
     "source": "Look at this beautiful, nonlinear, intuitive response! Easy to build, easy to tweak, and we retained intuition throughout."
    },
    {
     "cell_type": "code",
     "collapsed": false,
     "input": "# Number of customers on our real Texas day: 96 degrees\nplt.plot(temp, predicted_customers, 'k')\nplt.vlines(96, 5, predicted_customers[temp == 96], color='DarkOrange', linestyle='dashed', lw=2)\nplt.hlines(predicted_customers[temp == 96], 30, 96, color='DarkOrange', linestyle='dashed', lw=2)\nplt.xlabel('Temperature')\nplt.ylabel('Customers');",
     "language": "python",
     "metadata": {},
     "outputs": []
    },
    {
     "cell_type": "markdown",
     "metadata": {},
     "source": "##Exercises: \n\n1. Go back and re-calculate the relation using `fuzz.relation_min` instead of `fuzz.relation_product`.\n\n* What changes? \n* Which model do you think is better? (warning: trick question)\n\n2. Adjust the parameters of the original membership functions and re-run the notebook. Do the results make intuitive sense?"
    },
    {
     "cell_type": "code",
     "collapsed": false,
     "input": "",
     "language": "python",
     "metadata": {},
     "outputs": []
    }
   ],
   "metadata": {}
  }
 ]
}